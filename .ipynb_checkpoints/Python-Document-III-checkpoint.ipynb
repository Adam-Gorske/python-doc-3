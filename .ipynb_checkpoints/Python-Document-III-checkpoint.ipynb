{
 "cells": [
  {
   "cell_type": "markdown",
   "metadata": {},
   "source": [
    "# Data Collections 2 (Dictionaries, Sets) and Importing Modules"
   ]
  },
  {
   "cell_type": "markdown",
   "metadata": {},
   "source": [
    "## Tasks Today:\n",
    "\n",
    "1) Dictionary <br>\n",
    " &nbsp;&nbsp;&nbsp;&nbsp; a) Declaring (key, value) <br>\n",
    " &nbsp;&nbsp;&nbsp;&nbsp; b) Accessing Values <br>\n",
    " &nbsp;&nbsp;&nbsp;&nbsp; ------ Exercise #1 - Print the eye color of each person in a double nested dict <br>\n",
    " &nbsp;&nbsp;&nbsp;&nbsp; c) Adding New Pairs <br>\n",
    " &nbsp;&nbsp;&nbsp;&nbsp; d) Modifying Values <br>\n",
    " &nbsp;&nbsp;&nbsp;&nbsp; e) Removing Key, Value Pairs <br>\n",
    " &nbsp;&nbsp;&nbsp;&nbsp; f) Looping a Dictionary <br>\n",
    " &nbsp;&nbsp;&nbsp;&nbsp; g) Looping Only Keys <br>\n",
    " &nbsp;&nbsp;&nbsp;&nbsp; h) Looping Only Values <br>\n",
    " &nbsp;&nbsp;&nbsp;&nbsp; ------ Exercise #2 - Create a Function that Prints All Key Value Pairs within a print .format()  <br>\n",
    " &nbsp;&nbsp;&nbsp;&nbsp; i) sorted() <br>\n",
    " &nbsp;&nbsp;&nbsp;&nbsp; j) Lists with Dictionaries <br>\n",
    " &nbsp;&nbsp;&nbsp;&nbsp; k) Dictionaries with Lists <br>\n",
    " &nbsp;&nbsp;&nbsp;&nbsp; l) Dictionaries with Dictionaries <br>\n",
    " &nbsp;&nbsp;&nbsp;&nbsp; ------ Exercise #3 - Write a Function that asks someone's name and address, and then stores that into a dictionary, which prints all names and addresses after they're done putting information in...  <br>\n",
    "2) Dictionaries vs. Lists (over time)<br>\n",
    "3) Set <br>\n",
    " &nbsp;&nbsp;&nbsp;&nbsp; a) Declaring <br>\n",
    " &nbsp;&nbsp;&nbsp;&nbsp; b) .add() <br>\n",
    " &nbsp;&nbsp;&nbsp;&nbsp; c) .remove() <br>\n",
    " &nbsp;&nbsp;&nbsp;&nbsp; d) .union() <br>\n",
    " &nbsp;&nbsp;&nbsp;&nbsp; e) .intersection() <br>\n",
    " &nbsp;&nbsp;&nbsp;&nbsp; f) .difference() <br>\n",
    " &nbsp;&nbsp;&nbsp;&nbsp; g) Frozen Set <br>\n",
    "4) Modules <br>\n",
    " &nbsp;&nbsp;&nbsp;&nbsp; a) Importing Entire Modules <br>\n",
    " &nbsp;&nbsp;&nbsp;&nbsp; b) Importing Methods Only <br>\n",
    " &nbsp;&nbsp;&nbsp;&nbsp; c) Using the 'as' Keyword <br>\n",
    " &nbsp;&nbsp;&nbsp;&nbsp; d) Creating a Module <br>\n",
    "5) Exercises <br>\n",
    " &nbsp;&nbsp;&nbsp;&nbsp; a) Build a Shopping Cart <br>\n",
    " &nbsp;&nbsp;&nbsp;&nbsp; b) Create Your Own Module <br>"
   ]
  },
  {
   "cell_type": "markdown",
   "metadata": {},
   "source": [
    "## Dictionary <br>\n",
    "<p>A collection of data with 'key:value' pairs. Dictionaries are ordered as of Python 3.6</p>"
   ]
  },
  {
   "cell_type": "markdown",
   "metadata": {},
   "source": [
    "##### Declaring (key, value)"
   ]
  },
  {
   "cell_type": "code",
   "execution_count": 11,
   "metadata": {},
   "outputs": [
    {
     "name": "stdout",
     "output_type": "stream",
     "text": [
      "{'dave': '255 Main Street', 'sean': '522 1st Street', 0: 'This is a value for a key of 0'}\n"
     ]
    }
   ],
   "source": [
    "# KEYS SHOULD BE UNIQUE\n",
    "# CAN USE NUMBERS OR STRINGS AS KEYS\n",
    "\n",
    "dict_1 = {}   #empty dictionary / MORE COMMON WAY OF WRITING\n",
    "\n",
    "#OR\n",
    "\n",
    "dict_2 = dict()\n",
    "\n",
    "#WITH DATA\n",
    "\n",
    "dict_3 = {\n",
    "    \"dave\": \"255 Main Street\",\n",
    "    \"sean\": \"522 1st Street\",\n",
    "    0: \"This is a value for a key of 0\",\n",
    "}\n",
    "\n",
    "print(dict_3)"
   ]
  },
  {
   "cell_type": "markdown",
   "metadata": {},
   "source": [
    "##### Accessing Values"
   ]
  },
  {
   "cell_type": "code",
   "execution_count": 6,
   "metadata": {},
   "outputs": [
    {
     "name": "stdout",
     "output_type": "stream",
     "text": [
      "255 Main Street\n",
      "This is a value for a key of 0\n"
     ]
    }
   ],
   "source": [
    "# SYNTAX\n",
    "\n",
    "# dict[key]\n",
    "#  ^ this returns the value\n",
    "\n",
    "print(dict_3['dave'])\n",
    "print(dict_3[0])"
   ]
  },
  {
   "cell_type": "markdown",
   "metadata": {},
   "source": [
    "## In-Class Exercise #1 - Print a formatted statement from the dictionary below <br>\n",
    "<p>The output should be '2018 Chevrolet Silverado'</p>"
   ]
  },
  {
   "cell_type": "code",
   "execution_count": 8,
   "metadata": {},
   "outputs": [
    {
     "name": "stdout",
     "output_type": "stream",
     "text": [
      "2018 Chevrolet Silverado\n",
      "The make is a 2018 Chevrolet Silverado\n"
     ]
    }
   ],
   "source": [
    "# use the dict below\n",
    "truck = {\n",
    "    'year': 2018,\n",
    "    'make': 'Chevrolet',\n",
    "    'model': 'Silverado'\n",
    "}\n",
    "\n",
    "print(truck['year'], truck['make'], truck['model'])\n",
    "print(f\"The make is a {truck['year']} {truck['make']} {truck['model']}\")\n"
   ]
  },
  {
   "cell_type": "markdown",
   "metadata": {},
   "source": [
    "##### Adding New Pairs"
   ]
  },
  {
   "cell_type": "code",
   "execution_count": 14,
   "metadata": {},
   "outputs": [
    {
     "data": {
      "text/plain": [
       "{'dave': '255 Main Street',\n",
       " 'sean': '522 1st Street',\n",
       " 0: 'This is a value for a key of 0',\n",
       " 'bob': 'From Ohio'}"
      ]
     },
     "execution_count": 14,
     "metadata": {},
     "output_type": "execute_result"
    }
   ],
   "source": [
    "# dict[key] = value\n",
    "\n",
    "dict_3['bob'] = \"From Ohio\"\n",
    "\n",
    "dict_3"
   ]
  },
  {
   "cell_type": "markdown",
   "metadata": {},
   "source": [
    "##### Modifying Values"
   ]
  },
  {
   "cell_type": "code",
   "execution_count": 15,
   "metadata": {},
   "outputs": [
    {
     "data": {
      "text/plain": [
       "{'dave': '255 Main Street',\n",
       " 'sean': '522 1st Street',\n",
       " 0: 'This is a value for a key of 0',\n",
       " 'bob': 'From Nashville'}"
      ]
     },
     "execution_count": 15,
     "metadata": {},
     "output_type": "execute_result"
    }
   ],
   "source": [
    "# dict[key] = value\n",
    "\n",
    "dict_3['bob'] = \"From Nashville\"\n",
    "\n",
    "dict_3"
   ]
  },
  {
   "cell_type": "markdown",
   "metadata": {},
   "source": [
    "##### Removing Key, Value Pairs"
   ]
  },
  {
   "cell_type": "code",
   "execution_count": 17,
   "metadata": {},
   "outputs": [
    {
     "data": {
      "text/plain": [
       "{'dave': '255 Main Street',\n",
       " 'sean': '522 1st Street',\n",
       " 0: 'This is a value for a key of 0'}"
      ]
     },
     "execution_count": 17,
     "metadata": {},
     "output_type": "execute_result"
    }
   ],
   "source": [
    "# del dict['key']\n",
    "\n",
    "del dict_3['bob']\n",
    "\n",
    "dict_3"
   ]
  },
  {
   "cell_type": "markdown",
   "metadata": {},
   "source": [
    "##### Looping a Dictionary"
   ]
  },
  {
   "cell_type": "code",
   "execution_count": 19,
   "metadata": {},
   "outputs": [
    {
     "name": "stdout",
     "output_type": "stream",
     "text": [
      "dave 255 Main Street\n",
      "sean 522 1st Street\n",
      "0 This is a value for a key of 0\n"
     ]
    }
   ],
   "source": [
    "# .items()\n",
    "\n",
    "for key, value in dict_3.items():\n",
    "    print(key, value)\n"
   ]
  },
  {
   "cell_type": "markdown",
   "metadata": {},
   "source": [
    "##### Looping Only Keys"
   ]
  },
  {
   "cell_type": "code",
   "execution_count": 20,
   "metadata": {},
   "outputs": [
    {
     "name": "stdout",
     "output_type": "stream",
     "text": [
      "dave\n",
      "sean\n",
      "0\n"
     ]
    }
   ],
   "source": [
    "# .keys()\n",
    "for key in dict_3.keys():\n",
    "    print(key)\n"
   ]
  },
  {
   "cell_type": "markdown",
   "metadata": {},
   "source": [
    "##### Looping Only Values"
   ]
  },
  {
   "cell_type": "code",
   "execution_count": 23,
   "metadata": {},
   "outputs": [
    {
     "name": "stdout",
     "output_type": "stream",
     "text": [
      "255 Main Street\n",
      "522 1st Street\n",
      "This is a value for a key of 0\n"
     ]
    }
   ],
   "source": [
    "# .values()\n",
    "for value in dict_3.values():\n",
    "    print(value)\n"
   ]
  },
  {
   "cell_type": "markdown",
   "metadata": {},
   "source": [
    "## In-Class Exercise #2 - Create a Function that Prints All Key Value Pairs within a print .format() <br>\n",
    "<p><b>Output should be:</b><br>\n",
    "Max has blue eyes<br>\n",
    "Lilly has brown eyes<br>\n",
    "Barney has blue eyes<br>\n",
    "etc.\n",
    "</p>"
   ]
  },
  {
   "cell_type": "code",
   "execution_count": 24,
   "metadata": {},
   "outputs": [
    {
     "name": "stdout",
     "output_type": "stream",
     "text": [
      "Max has blue eyes.\n",
      "Lilly has brown eyes.\n",
      "Barney has blue eyes.\n",
      "Larney has brown eyes.\n",
      "Ted has purple eyes.\n"
     ]
    }
   ],
   "source": [
    "# use the dict below\n",
    "\n",
    "people = {\n",
    "    'Max': 'blue',\n",
    "    'Lilly': 'brown',\n",
    "    'Barney': 'blue',\n",
    "    'Larney': 'brown',\n",
    "    'Ted': 'purple'\n",
    "}\n",
    "\n",
    "\n",
    "for key, value in people.items():\n",
    "    print(f\"{key} has {value} eyes.\")\n"
   ]
  },
  {
   "cell_type": "markdown",
   "metadata": {},
   "source": [
    "##### sorted()"
   ]
  },
  {
   "cell_type": "code",
   "execution_count": 29,
   "metadata": {},
   "outputs": [
    {
     "name": "stdout",
     "output_type": "stream",
     "text": [
      "[('Barney', 'blue'), ('Larney', 'brown'), ('Lilly', 'brown'), ('Max', 'blue'), ('Ted', 'purple')]\n",
      "['Barney', 'Larney', 'Lilly', 'Max', 'Ted']\n",
      "['blue', 'blue', 'brown', 'brown', 'purple']\n",
      "['blue', 'blue', 'brown', 'brown', 'purple']\n"
     ]
    }
   ],
   "source": [
    "# sorts variables in order (will return a new list)\n",
    "# sorted(dict.items())  returns keys and values\n",
    "# sorted(dict.keys())\n",
    "# sorted(dict.values()) \n",
    "   \n",
    "\n",
    "\n",
    "print(sorted(people.items()))\n",
    "print(sorted(people.keys()))\n",
    "print(sorted(people.values()))\n",
    "\n",
    "new_variable = sorted(people.values())\n",
    "print(new_variable)\n"
   ]
  },
  {
   "cell_type": "markdown",
   "metadata": {},
   "source": [
    "##### List with Dictionaries"
   ]
  },
  {
   "cell_type": "code",
   "execution_count": 30,
   "metadata": {},
   "outputs": [
    {
     "name": "stdout",
     "output_type": "stream",
     "text": [
      "Barbara\n"
     ]
    }
   ],
   "source": [
    "names = [\"Dave\", \"Randy\", \"Greg\", {\"random_guy\":\"Robert\", \"random_girl\":\"Barbara\"}]\n",
    "\n",
    "print(names[3][\"random_girl\"])"
   ]
  },
  {
   "cell_type": "code",
   "execution_count": 53,
   "metadata": {},
   "outputs": [
    {
     "name": "stdout",
     "output_type": "stream",
     "text": [
      "Barbara\n",
      "\n",
      "\n",
      "random_guy\n",
      "random_girl\n",
      "\n",
      "\n",
      "Robert\n",
      "Barbara\n",
      "\n",
      "\n"
     ]
    }
   ],
   "source": [
    "names = [\"Dave\", \"Randy\", \"Greg\", {\"random_guy\":\"Robert\", \"random_girl\": \"Barbara\"}]\n",
    "\n",
    "print(names[3][\"random_girl\"])\n",
    "print(\"\\n\")\n",
    "\n",
    "# Get all the keys from a nested dictionary in a list\n",
    "\n",
    "for keys in names[3].keys():\n",
    "    print(keys)\n",
    "print(\"\\n\")\n",
    "    \n",
    "# Get all the values from a nested dictionary in a list   \n",
    "    \n",
    "for values in names[3].values():\n",
    "    print(values)\n",
    "print('\\n')"
   ]
  },
  {
   "cell_type": "code",
   "execution_count": 31,
   "metadata": {},
   "outputs": [
    {
     "name": "stdout",
     "output_type": "stream",
     "text": [
      "random_guy\n",
      "random_girl\n"
     ]
    }
   ],
   "source": [
    "# GET ALL THE KEYS FROM A NESTED DICTIONARY IN A LIST\n",
    "\n",
    "for keys in names[3].keys():\n",
    "    print(keys)"
   ]
  },
  {
   "cell_type": "code",
   "execution_count": null,
   "metadata": {},
   "outputs": [],
   "source": []
  },
  {
   "cell_type": "markdown",
   "metadata": {},
   "source": [
    "##### Dictionaries with Lists"
   ]
  },
  {
   "cell_type": "code",
   "execution_count": 35,
   "metadata": {},
   "outputs": [
    {
     "name": "stdout",
     "output_type": "stream",
     "text": [
      "54\n",
      "7\n",
      "11\n",
      "\n",
      "\n",
      "smith\n",
      "iPod\n",
      "water bottle\n"
     ]
    }
   ],
   "source": [
    "# be careful when using numbers as keys in dictionaries, don't confuse them with indexes\n",
    "#CANNOT INDEX INTO A DICTIONARY\n",
    "# PRACTICE MESSING AROUND WITH GETTING DIFFERENT ANSWERS AND HOW TO ISOLATE DIFFERENT VARIABLES @ 11ish MINS VIDEO 3.3\n",
    "\n",
    "random_data = {\n",
    "    'list1' : [54, 7, 11],\n",
    "    '2' : ['smith', 'iPod', 'water bottle'],\n",
    "}\n",
    "\n",
    "for value in random_data['list1']:\n",
    "    print(value)\n",
    "\n",
    "print(\"\\n\")\n",
    "    \n",
    "for value in random_data['2']:\n",
    "    print(value)"
   ]
  },
  {
   "cell_type": "code",
   "execution_count": 36,
   "metadata": {},
   "outputs": [
    {
     "name": "stdout",
     "output_type": "stream",
     "text": [
      "water bottle\n"
     ]
    }
   ],
   "source": [
    "#isolate water bottle\n",
    "print(random_data['2'][2])"
   ]
  },
  {
   "cell_type": "code",
   "execution_count": 37,
   "metadata": {
    "scrolled": true
   },
   "outputs": [
    {
     "name": "stdout",
     "output_type": "stream",
     "text": [
      "11\n"
     ]
    }
   ],
   "source": [
    "# isolate 11\n",
    "print(random_data['list1'][2])"
   ]
  },
  {
   "cell_type": "code",
   "execution_count": 39,
   "metadata": {},
   "outputs": [],
   "source": [
    "#editing dictionary from above, but don't want to mess with the problems below it.\n",
    "random_data = {\n",
    "    'list1' : [54, 7, 11],\n",
    "    '2' : ['smith', 'iPod', {'eucalyptus' : 'tree native to australia', 'oak':'common throughout the world' }, 'water bottle'],\n",
    "}\n"
   ]
  },
  {
   "cell_type": "code",
   "execution_count": 40,
   "metadata": {},
   "outputs": [
    {
     "name": "stdout",
     "output_type": "stream",
     "text": [
      "{'eucalyptus': 'tree native to australia', 'oak': 'common throughout the world'}\n"
     ]
    }
   ],
   "source": [
    "# print out dictionary of trees\n",
    "\n",
    "print(random_data['2'][2])"
   ]
  },
  {
   "cell_type": "code",
   "execution_count": 46,
   "metadata": {},
   "outputs": [
    {
     "name": "stdout",
     "output_type": "stream",
     "text": [
      "eucalyptus\n",
      "oak\n"
     ]
    }
   ],
   "source": [
    "# print out keys of tree dictionary\n",
    "\n",
    "for keys in random_data['2'][2]:\n",
    "    print(keys)"
   ]
  },
  {
   "cell_type": "code",
   "execution_count": 50,
   "metadata": {},
   "outputs": [
    {
     "name": "stdout",
     "output_type": "stream",
     "text": [
      "tree native to australia\n",
      "common throughout the world\n"
     ]
    }
   ],
   "source": [
    "# print out values of tree dictionary\n",
    "\n",
    "for values in random_data['2'][2].values():\n",
    "    print(values)"
   ]
  },
  {
   "cell_type": "markdown",
   "metadata": {},
   "source": [
    "##### Dictionaries with Dictionaries"
   ]
  },
  {
   "cell_type": "code",
   "execution_count": 51,
   "metadata": {},
   "outputs": [
    {
     "name": "stdout",
     "output_type": "stream",
     "text": [
      "2.99\n"
     ]
    }
   ],
   "source": [
    "# to get values, must traverse through keys\n",
    "food_dict = {\n",
    "    'ice_cream': {\n",
    "        \"CHO\" : 2.99,\n",
    "        \"VAN\" : 3.99,\n",
    "        \"ORE\" : 4.99,\n",
    "        \"PB\" : 5.99,\n",
    "    }\n",
    "}\n",
    "\n",
    "#print value of chocolate\n",
    "\n",
    "print(food_dict['ice_cream'][\"CHO\"])"
   ]
  },
  {
   "cell_type": "code",
   "execution_count": 52,
   "metadata": {},
   "outputs": [
    {
     "name": "stdout",
     "output_type": "stream",
     "text": [
      "('CHO', 2.99)\n",
      "('VAN', 3.99)\n",
      "('ORE', 4.99)\n",
      "('PB', 5.99)\n"
     ]
    }
   ],
   "source": [
    "#loop to get items\n",
    "for i in food_dict['ice_cream'].items():\n",
    "    print(i)"
   ]
  },
  {
   "cell_type": "code",
   "execution_count": 53,
   "metadata": {},
   "outputs": [
    {
     "name": "stdout",
     "output_type": "stream",
     "text": [
      "CHO\n",
      "VAN\n",
      "ORE\n",
      "PB\n"
     ]
    }
   ],
   "source": [
    "#loop to get keys\n",
    "for i in food_dict['ice_cream'].keys():\n",
    "    print(i)"
   ]
  },
  {
   "cell_type": "code",
   "execution_count": 86,
   "metadata": {},
   "outputs": [
    {
     "name": "stdout",
     "output_type": "stream",
     "text": [
      "2.99\n",
      "3.99\n",
      "4.99\n",
      "5.99\n"
     ]
    }
   ],
   "source": [
    "#loop to get values\n",
    "for i in food_dict['ice_cream'].values():\n",
    "    print(i)"
   ]
  },
  {
   "cell_type": "markdown",
   "metadata": {},
   "source": [
    "## Dictionaries vs. Lists (over time) Example of RUNTIME\n",
    "### When inputting values in a Dictionary vs List"
   ]
  },
  {
   "cell_type": "code",
   "execution_count": 54,
   "metadata": {},
   "outputs": [],
   "source": [
    "# DICTIONARIES ARE FASTER THAN LISTS\n",
    "\n",
    "import time\n",
    "\n",
    "\n",
    "# generate fake dictionary\n",
    "d = {}\n",
    "\n",
    "for i in range(10000000):\n",
    "    d[i] = 'value'\n",
    "    \n",
    "\n",
    "# generate fake list\n",
    "big_list = [x for x in range(10000000)]"
   ]
  },
  {
   "cell_type": "code",
   "execution_count": 55,
   "metadata": {},
   "outputs": [
    {
     "name": "stdout",
     "output_type": "stream",
     "text": [
      "value\n",
      "Elapsed time for dictionary: 0.0\n",
      "9999999\n",
      "Elapsed time for list: 2.1836280822753906\n"
     ]
    }
   ],
   "source": [
    "# tracking time for dictionary\n",
    "start_time = time.time()\n",
    "\n",
    "print(d[9999999])\n",
    "\n",
    "end_time = time.time() - start_time\n",
    "\n",
    "print('Elapsed time for dictionary: {}'.format(end_time))\n",
    "\n",
    "\n",
    "# tracking time for list\n",
    "start_time = time.time()\n",
    "\n",
    "for i in range(len(big_list)):\n",
    "    if i == 9999999:\n",
    "        print(i)\n",
    "\n",
    "end_time = time.time() - start_time\n",
    "\n",
    "print('Elapsed time for list: {}'.format(end_time))"
   ]
  },
  {
   "cell_type": "markdown",
   "metadata": {},
   "source": [
    "## Exercise #3 - Write a Function that asks someone's name and address, and then stores that into a dictionary, and continues to do so until they choose to 'quit'. Once they quit, the program should print all names and addresses. <br>\n",
    "<p>\n",
    "<b>Proper steps:</b><br>\n",
    "step 1: write a function that takes in information and stores it in a dictionary<br>\n",
    "step 2: define an empty dictionary to work with<br>\n",
    "step 3: create our loop, which asks the user for information until they quit<br>\n",
    "step 4: ask for the information, and store it into variables<br>\n",
    "step 5: check if the user types quit<br>\n",
    "step 5a: print out all information<br>\n",
    "step 5b: break out of the loop<br>\n",
    "step 6: if they didn't quit, add the information to the dictionary<br>\n",
    "step 7: invoke the function by calling it\n",
    "</p>"
   ]
  },
  {
   "cell_type": "code",
   "execution_count": 12,
   "metadata": {},
   "outputs": [
    {
     "name": "stdout",
     "output_type": "stream",
     "text": [
      "We will need some information from you. Please enter 'Y' to continue, or 'N' to exit. N\n",
      "adam lives at 34343 pine st\n",
      "cathy lives at 34342 elephant ln\n"
     ]
    }
   ],
   "source": [
    "# FUNCTION THAT ASKS FOR NAME AND ADDRESS, REPEATS UNTIL DONE, STORES ALL THE INFO INTO A DICT, THEN RETURNS THEM\n",
    "\n",
    "from IPython.display import clear_output\n",
    "\n",
    "\n",
    "def name_address():\n",
    "    dict_1 = {}\n",
    "    \n",
    "    active = True\n",
    "    while active:\n",
    "        switch = input(\"We will need some information from you. Please enter 'Y' to continue, or 'N' to exit. \").lower()\n",
    "        if switch == 'n':\n",
    "            active = False\n",
    "        else:\n",
    "            name = input(\"What is your name? \").lower()\n",
    "            address = input(\"What is your address? \").lower()\n",
    "            dict_1[name] = address\n",
    "            clear_output()\n",
    "    for key, value in dict_1.items():\n",
    "        print(f\"{key} : {value}\")\n",
    "        \n",
    "\n",
    "\n",
    "name_address()\n"
   ]
  },
  {
   "cell_type": "code",
   "execution_count": 1,
   "metadata": {},
   "outputs": [
    {
     "name": "stdout",
     "output_type": "stream",
     "text": [
      "{'adam': '34 first st', 'kale': 'salad', 'brock': 'colli'}\n"
     ]
    }
   ],
   "source": [
    "#NOT A FUNCTION, BUT ANOTHER WAY TO WRITE CODE TO INPUT A DICTIONARY AND RETURN IT\n",
    "\n",
    "#PG 130 from PythonCrashCourse\n",
    "\n",
    "from IPython.display import clear_output\n",
    "\n",
    "\n",
    "name_address = {}\n",
    "\n",
    "running = True\n",
    "\n",
    "while running:\n",
    "    print(\"Please fill out the following information!\")\n",
    "    name = input(\"What is you name?\\n\").lower()\n",
    "    address = input(\"What is your address?\\n\").lower()\n",
    "    \n",
    "    name_address[name] = address\n",
    "    \n",
    "    repeat = input(\"Would you like to enter another name and address (type 'no' if you would like to quit the program)?\\n\")\n",
    "    clear_output()\n",
    "    if repeat == \"no\":\n",
    "        running = False\n",
    "        \n",
    "print(name_address)\n",
    "\n",
    "    \n",
    "    \n"
   ]
  },
  {
   "cell_type": "code",
   "execution_count": 6,
   "metadata": {},
   "outputs": [
    {
     "name": "stdout",
     "output_type": "stream",
     "text": [
      "We need your name and address. Type 'c' to contine or 'x' to exit.\n",
      "c\n",
      "What's your name?\n",
      "Adam\n",
      "What's your address?\n",
      "34 pine ln\n",
      "We need your name and address. Type 'c' to contine or 'x' to exit.\n",
      "c\n",
      "What's your name?\n",
      "kailey\n",
      "What's your address?\n",
      "344 couch st\n",
      "We need your name and address. Type 'c' to contine or 'x' to exit.\n",
      "x\n",
      "{'name': 'kailey', 'address': '344 couch st'}\n"
     ]
    }
   ],
   "source": [
    "#DIFFERENT WAY OF WRITING A FUNCTION\n",
    "\n",
    "def name_address_func():\n",
    "    new_dict = {}\n",
    "\n",
    "    while True:\n",
    "        prompt = input(\"We need your name and address. Type 'c' to contine or 'x' to exit.\\n\")\n",
    "        if prompt == 'x':\n",
    "            break\n",
    "        else:\n",
    "            name = input(\"What's your name?\\n\")\n",
    "            new_dict['name'] = name\n",
    "            address = input(\"What's your address?\\n\")\n",
    "            new_dict['address'] = address\n",
    "    print(new_dict)\n",
    "    \n",
    "name_address_func()\n"
   ]
  },
  {
   "cell_type": "markdown",
   "metadata": {},
   "source": [
    "## Set <br>\n",
    "<p>A Set is an unordered collection data type that is iterable (loop), mutable, and has no duplicate elements.<br>Major advantage is that it is highly optimized in checking if something is in the set, as opposed to checking if something is in a list.</p>"
   ]
  },
  {
   "cell_type": "markdown",
   "metadata": {},
   "source": [
    "##### Declaring"
   ]
  },
  {
   "cell_type": "code",
   "execution_count": 13,
   "metadata": {},
   "outputs": [
    {
     "name": "stdout",
     "output_type": "stream",
     "text": [
      "{1, 4, 6}\n"
     ]
    }
   ],
   "source": [
    "# set() or {}\n",
    "# no order {3, 2, 1} outputs as {1, 2, 3}\n",
    "nums = {4, 1, 6, 4}\n",
    "\n",
    "print(nums)"
   ]
  },
  {
   "cell_type": "markdown",
   "metadata": {},
   "source": [
    "##### .add()"
   ]
  },
  {
   "cell_type": "code",
   "execution_count": 16,
   "metadata": {},
   "outputs": [
    {
     "name": "stdout",
     "output_type": "stream",
     "text": [
      "{56, 1, 4, 6}\n"
     ]
    }
   ],
   "source": [
    "# set.add()\n",
    "nums.add(56)\n",
    "print(nums)"
   ]
  },
  {
   "cell_type": "markdown",
   "metadata": {},
   "source": [
    "##### .remove()"
   ]
  },
  {
   "cell_type": "code",
   "execution_count": 17,
   "metadata": {},
   "outputs": [
    {
     "name": "stdout",
     "output_type": "stream",
     "text": [
      "{1, 4, 6}\n"
     ]
    }
   ],
   "source": [
    "# removes by value\n",
    "# set.remove()\n",
    "# nums.remove(56)\n",
    "\n",
    "nums.remove(56)\n",
    "print(nums)"
   ]
  },
  {
   "cell_type": "markdown",
   "metadata": {},
   "source": [
    "##### .union() "
   ]
  },
  {
   "cell_type": "code",
   "execution_count": 18,
   "metadata": {},
   "outputs": [
    {
     "name": "stdout",
     "output_type": "stream",
     "text": [
      "{1, 2, 3, 4, 5, 6}\n",
      "{1, 2, 3, 4, 5, 6}\n"
     ]
    }
   ],
   "source": [
    "# Returns a union of two sets, can also use '|' or set.union(set)\n",
    "# joins all numbers, gets rid of duplicates\n",
    "\n",
    "s1 = {1,2,3,4}\n",
    "s2 = {3,4,5,6}\n",
    "\n",
    "s3 = s1.union(s2)\n",
    "print(s3)\n",
    "\n",
    "#OR\n",
    "\n",
    "s4 = s1 | s2\n",
    "print(s4)\n"
   ]
  },
  {
   "cell_type": "markdown",
   "metadata": {},
   "source": [
    "##### .intersection()"
   ]
  },
  {
   "cell_type": "code",
   "execution_count": 20,
   "metadata": {},
   "outputs": [
    {
     "name": "stdout",
     "output_type": "stream",
     "text": [
      "{3, 4}\n",
      "{3, 4}\n"
     ]
    }
   ],
   "source": [
    "# Returns an intersection of two sets, can also use '&'\n",
    "# only takes similar elements from both sets\n",
    "\n",
    "s5 = s1.intersection(s2)\n",
    "print(s5)\n",
    "\n",
    "# OR\n",
    "\n",
    "s6 = s1 & s2\n",
    "print(s6)"
   ]
  },
  {
   "cell_type": "markdown",
   "metadata": {},
   "source": [
    "##### .difference()"
   ]
  },
  {
   "cell_type": "code",
   "execution_count": 21,
   "metadata": {},
   "outputs": [
    {
     "name": "stdout",
     "output_type": "stream",
     "text": [
      "{5, 6}\n",
      "{1, 2}\n"
     ]
    }
   ],
   "source": [
    "# Returns a set containing all the elements of invoking set that are not in the second set, can also use '-'\n",
    "# only takes values from the first set that are not in the second set\n",
    "# order matters\n",
    "\n",
    "s7 = s2 - s1 # what's in s2, but not in s1\n",
    "print(s7)\n",
    "\n",
    "# OR\n",
    "\n",
    "s8 = s1.difference(s2)  # what's in s1, but not in s2\n",
    "print(s8)"
   ]
  },
  {
   "cell_type": "markdown",
   "metadata": {},
   "source": [
    "##### .clear()"
   ]
  },
  {
   "cell_type": "code",
   "execution_count": 22,
   "metadata": {},
   "outputs": [
    {
     "name": "stdout",
     "output_type": "stream",
     "text": [
      "set()\n"
     ]
    }
   ],
   "source": [
    "# Empties the whole set\n",
    "# set.clear()\n",
    "\n",
    "s8.clear()\n",
    "print(s8)"
   ]
  },
  {
   "cell_type": "markdown",
   "metadata": {},
   "source": [
    "##### Frozenset <br>\n",
    "<p>Frozen sets are immutable objects that only support methods and operators that produce a result without affecting the frozen set or sets to which they are applied.</p><br><b>Unique & Immutable</b>"
   ]
  },
  {
   "cell_type": "code",
   "execution_count": 28,
   "metadata": {},
   "outputs": [
    {
     "name": "stdout",
     "output_type": "stream",
     "text": [
      "frozenset({1, 2, 3, 4, 5, 6, 56})\n"
     ]
    }
   ],
   "source": [
    "# frozenset([])\n",
    "s3.add(56)\n",
    "my_frozen_set = frozenset(s3)\n",
    "print(my_frozen_set)\n",
    "\n",
    "#my_frozen_set.add(66) -- it's immutable so this won't work... but you could add it before freezing it..."
   ]
  },
  {
   "cell_type": "markdown",
   "metadata": {},
   "source": [
    "## Modules"
   ]
  },
  {
   "cell_type": "markdown",
   "metadata": {},
   "source": [
    "##### Importing Entire Modules"
   ]
  },
  {
   "cell_type": "code",
   "execution_count": 33,
   "metadata": {},
   "outputs": [
    {
     "name": "stdout",
     "output_type": "stream",
     "text": [
      "3.141592653589793\n",
      "3\n",
      "Help on built-in function floor in module math:\n",
      "\n",
      "floor(x, /)\n",
      "    Return the floor of x as an Integral.\n",
      "    \n",
      "    This is the largest integer <= x.\n",
      "\n"
     ]
    }
   ],
   "source": [
    "# import or from 'xxx' import *\n",
    "\n",
    "# import math will add everything from the module, so it might be too big for what you need\n",
    "\n",
    "import math\n",
    "\n",
    "print(pi)\n",
    "print(floor(pi))\n",
    "\n",
    "help(floor)"
   ]
  },
  {
   "cell_type": "markdown",
   "metadata": {},
   "source": [
    "##### Importing Methods Only"
   ]
  },
  {
   "cell_type": "code",
   "execution_count": 34,
   "metadata": {},
   "outputs": [
    {
     "name": "stdout",
     "output_type": "stream",
     "text": [
      "3.141592653589793\n"
     ]
    }
   ],
   "source": [
    "# from 'xxx' import 'xxx'\n",
    "from math import floor, pi\n",
    "\n",
    "print(pi)\n"
   ]
  },
  {
   "cell_type": "markdown",
   "metadata": {},
   "source": [
    "##### Using the 'as' Keyword"
   ]
  },
  {
   "cell_type": "code",
   "execution_count": 35,
   "metadata": {},
   "outputs": [
    {
     "name": "stdout",
     "output_type": "stream",
     "text": [
      "3\n"
     ]
    }
   ],
   "source": [
    "# from 'xxx' import 'xxx' as 'xxx' or import 'xxx' as 'xxx'\n",
    "# from math import floor as f\n",
    "\n",
    "from math import floor as f, pi as p\n",
    "\n",
    "print(f(p))"
   ]
  },
  {
   "cell_type": "markdown",
   "metadata": {},
   "source": [
    "##### Creating a Module"
   ]
  },
  {
   "cell_type": "code",
   "execution_count": 3,
   "metadata": {},
   "outputs": [
    {
     "name": "stdout",
     "output_type": "stream",
     "text": [
      "Hello Mr/Ms Adam...we've been waiting for you!\n",
      "None\n"
     ]
    }
   ],
   "source": [
    "import module\n",
    "\n",
    "print(module.printName(\"Adam\"))"
   ]
  },
  {
   "cell_type": "markdown",
   "metadata": {},
   "source": [
    "# Exercises"
   ]
  },
  {
   "cell_type": "markdown",
   "metadata": {},
   "source": [
    "### 1) Build a Shopping Cart <br>\n",
    "<p><b>You can use either lists or dictionaries. The program should have the following capabilities:</b><br><br>\n",
    "1) Takes in input <br>\n",
    "2) Stores user input into a dictionary or list <br>\n",
    "3) The User can add or delete items <br>\n",
    "4) The User can see current shopping list <br>\n",
    "5) The program Loops until user 'quits' <br>\n",
    "6) Upon quiting the program, print out all items in the user's list <br>\n",
    "</p>"
   ]
  },
  {
   "cell_type": "code",
   "execution_count": 2,
   "metadata": {},
   "outputs": [
    {
     "name": "stdout",
     "output_type": "stream",
     "text": [
      "Thank you for shopping with us! Here's what's left in your cart!\n",
      "\n",
      "flour\n",
      "flowers\n",
      "star fish\n"
     ]
    }
   ],
   "source": [
    "# USING A LIST (CATCHES ERRORS AND ASKS PEOPLE TO TRY AGAIN)\n",
    "\n",
    "from IPython.display import clear_output\n",
    "\n",
    "def shopping_cart():\n",
    "    print(\"Welcome to The Store. You can put anything you can imagine into your shopping cart!\\n\")\n",
    "    \n",
    "    list_1 = []\n",
    "    \n",
    "    active = True\n",
    "    while active:\n",
    "        switch = input(\"\"\"Please do one of the following:\\n\n",
    "To add something to the cart, type: 'add'\n",
    "To show what's in the cart, type: 'show'\n",
    "To delete something from the cart, type: 'delete'\n",
    "To quit the shopping cart program, type: 'quit'\n",
    "What would you like to do? \"\"\").lower()\n",
    "        clear_output()\n",
    "        \n",
    "        if switch == 'quit':\n",
    "            active = False\n",
    "            print(\"Thank you for shopping with us! Here's what's left in your cart!\\n\")\n",
    "            for items in list_1:\n",
    "                print(items)\n",
    "            \n",
    "        elif switch == 'show':\n",
    "            print(\"This is what's currently in your cart!\\n\")\n",
    "            for items in list_1:\n",
    "                print(items)\n",
    "            \n",
    "        elif switch == 'add':\n",
    "            cart_item = input(\"What would you like to add to your cart? \")\n",
    "            list_1.append(cart_item)\n",
    "            print(f\"That's awesome, you want a {cart_item}. We've added it to your cart!\\n\")\n",
    "            \n",
    "        elif switch == 'delete':\n",
    "            delete_item = input(\"What would you like to delete from your cart? \")\n",
    "            try:\n",
    "                list_1.remove(delete_item)\n",
    "                print(f\"{delete_item} has been removed from your cart.\\n\")\n",
    "            except:\n",
    "                print(f\"{delete_item.title()} isn't in your cart silly! So... it hasn't been deleted. ;)\")\n",
    "            \n",
    "        elif switch != 'quit' or 'show' or 'add' or 'delete':\n",
    "            print(f\"Whoooa there! {switch.title()} isn't a proper input. Let's try again. :)\")\n",
    "        \n",
    "\n",
    "shopping_cart()"
   ]
  },
  {
   "cell_type": "code",
   "execution_count": 19,
   "metadata": {
    "scrolled": false
   },
   "outputs": [
    {
     "name": "stdout",
     "output_type": "stream",
     "text": [
      "Thank you for shopping with us! Here's what's left in your cart!\n",
      "\n",
      "99 red balloons\n",
      "4 carrots\n",
      "2 mattress\n"
     ]
    }
   ],
   "source": [
    "# USING A DICTIONARY THAT CAN ADJUST QUANTITY\n",
    "\n",
    "# dict[key] = value ---- ADDING KEY AND VALUE TO DICT\n",
    "from IPython.display import clear_output\n",
    "\n",
    "def shopping_cart():\n",
    "    print(\"Welcome to The Store. You can put anything you can imagine into your shopping cart!\\n\")\n",
    "    \n",
    "    dict_1 = {}\n",
    "    \n",
    "    active = True\n",
    "    while active:\n",
    "        switch = input(\"\"\"Please do one of the following:\\n\n",
    "To show what's in the cart, type: 'show'\n",
    "To add something to the cart, type: 'add'\n",
    "To adjust quantity of items, type: 'adjust'\n",
    "To delete something from the cart, type: 'delete'\n",
    "To quit the shopping cart program, type: 'quit'\n",
    "What would you like to do? \"\"\").lower()\n",
    "        clear_output()\n",
    "        \n",
    "        if switch == 'quit':\n",
    "            active = False\n",
    "            print(\"Thank you for shopping with us! Here's what's left in your cart!\\n\")\n",
    "            for key,value in dict_1.items():\n",
    "                print(f\"{value} {key}\")\n",
    "                \n",
    "            \n",
    "        elif switch == 'show':\n",
    "            print(\"This is what's currently in your cart!\\n\")\n",
    "            if dict_1: \n",
    "                for key,value in dict_1.items():\n",
    "                    print(f\"You have {value} {key}\")\n",
    "            else:\n",
    "                print(\"You don't have anything in your cart yet!\\n\")\n",
    "                \n",
    "            \n",
    "        elif switch == 'add':\n",
    "            print(\"This is what's currently in your cart!\\n\")\n",
    "            if dict_1: \n",
    "                for key,value in dict_1.items():\n",
    "                    print(f\"You have {value} {key}\")\n",
    "            else:\n",
    "                print(\"You don't have anything in your cart yet!\\n\")\n",
    "                    \n",
    "            cart_item = input(\"What would you like to add to your cart? \\n\")\n",
    "            item_quant = input(f\"How many {cart_item}(s) would you like to add? \")\n",
    "            \n",
    "            if item_quant == '0':\n",
    "                print(f\"You can't have nothing of something! The {cart_item} was not added to your cart.\\n\")\n",
    "                \n",
    "            else:\n",
    "                dict_1[cart_item] = item_quant\n",
    "                print(f\"That's awesome, you want {item_quant} {cart_item}. We've added it to your cart!\\n\")\n",
    "        \n",
    "        \n",
    "        elif switch == 'adjust':\n",
    "            print(\"This is what's currently in your cart!\\n\")\n",
    "            if dict_1: \n",
    "                for key,value in dict_1.items():\n",
    "                    print(f\"You have {value} {key}\\n\")\n",
    "            else:\n",
    "                print(\"You don't have anything in your cart yet!\\n\")\n",
    "                    \n",
    "            cart_item = input(\"Which item's quantity would you like to adjust? \")\n",
    "            item_quant = input(\"How many would you like instead? \")\n",
    "            \n",
    "            if item_quant == '0':\n",
    "                del dict_1[cart_item]\n",
    "                print(f\"Since you wanted {item_quant} {cart_item}, we've removed it from your cart. :)\\n\")\n",
    "            else:\n",
    "                dict_1[cart_item] = item_quant\n",
    "                print(f\"You now have {item_quant} {cart_item}!\\n\")\n",
    "            \n",
    "            \n",
    "        elif switch == 'delete':\n",
    "            print(\"This is what's currently in your cart!\\n\")\n",
    "            if dict_1: \n",
    "                for key,value in dict_1.items():\n",
    "                    print(f\"You have {value} {key}\")\n",
    "            else:\n",
    "                print(\"You don't have anything in your cart yet!\\n\")\n",
    "                    \n",
    "            delete_item = input(\"What would you like to delete from your cart (just enter the name of the item, not the quantity)? \\n\")\n",
    "            try:\n",
    "                del dict_1[delete_item]\n",
    "                print(f\"The {delete_item} has been removed from your cart.\\n\")\n",
    "            except:\n",
    "                print(\"That's not in your cart! Check your spelling and try again! :)\\n\")\n",
    "\n",
    "        \n",
    "        \n",
    "\n",
    "shopping_cart()\n",
    "\n",
    "\n",
    "# Ask the user four bits of input: Do you want to : Show/Add/Delete or Quit?"
   ]
  },
  {
   "cell_type": "markdown",
   "metadata": {},
   "source": [
    "### 2) Create a Module in VS Code and Import It into jupyter notebook <br>\n",
    "<p><b>Module should have the following capabilities:</b><br><br>\n",
    "1) Has a function to calculate the square footage of a house <br>\n",
    "    <b>Reminder of Formula: Length X Width == Area<br>\n",
    "        <hr>\n",
    "2) Has a function to calculate the circumference of a circle <br><br>\n",
    "<b>Program in Jupyter Notebook should take in user input and use imported functions to calculate a circle's circumference or a houses square footage</b>\n",
    "</p>"
   ]
  },
  {
   "cell_type": "code",
   "execution_count": 28,
   "metadata": {},
   "outputs": [
    {
     "data": {
      "text/plain": [
       "6"
      ]
     },
     "execution_count": 28,
     "metadata": {},
     "output_type": "execute_result"
    }
   ],
   "source": [
    "from mod_yule import sqft, circum_circ\n",
    "\n",
    "# square foot of house\n",
    "\n",
    "sqft(3,2)"
   ]
  },
  {
   "cell_type": "code",
   "execution_count": 29,
   "metadata": {},
   "outputs": [
    {
     "data": {
      "text/plain": [
       "50.27"
      ]
     },
     "execution_count": 29,
     "metadata": {},
     "output_type": "execute_result"
    }
   ],
   "source": [
    "# circumference of a circle\n",
    "\n",
    "circum_circ(8)"
   ]
  }
 ],
 "metadata": {
  "kernelspec": {
   "display_name": "Python 3 (ipykernel)",
   "language": "python",
   "name": "python3"
  },
  "language_info": {
   "codemirror_mode": {
    "name": "ipython",
    "version": 3
   },
   "file_extension": ".py",
   "mimetype": "text/x-python",
   "name": "python",
   "nbconvert_exporter": "python",
   "pygments_lexer": "ipython3",
   "version": "3.9.7"
  }
 },
 "nbformat": 4,
 "nbformat_minor": 2
}
